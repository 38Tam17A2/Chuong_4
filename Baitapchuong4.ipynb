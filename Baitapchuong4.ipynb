{
 "cells": [
  {
   "cell_type": "markdown",
   "metadata": {},
   "source": [
    "Bài 4.1"
   ]
  },
  {
   "cell_type": "code",
   "execution_count": 1,
   "metadata": {},
   "outputs": [
    {
     "name": "stdout",
     "output_type": "stream",
     "text": [
      "Chuỗi từ danh sách:\n",
      "0     a\n",
      "1     b\n",
      "2     c\n",
      "3     d\n",
      "4     e\n",
      "5     f\n",
      "6     g\n",
      "7     h\n",
      "8     i\n",
      "9     j\n",
      "10    k\n",
      "11    l\n",
      "12    m\n",
      "13    n\n",
      "14    o\n",
      "15    p\n",
      "16    q\n",
      "17    r\n",
      "18    s\n",
      "19    t\n",
      "20    u\n",
      "21    v\n",
      "22    w\n",
      "23    x\n",
      "24    y\n",
      "25    z\n",
      "dtype: object\n",
      "\n",
      "Chuỗi từ mảng numpy:\n",
      "0      0\n",
      "1      1\n",
      "2      2\n",
      "3      3\n",
      "4      4\n",
      "5      5\n",
      "6      6\n",
      "7      7\n",
      "8      8\n",
      "9      9\n",
      "10    10\n",
      "11    11\n",
      "12    12\n",
      "13    13\n",
      "14    14\n",
      "15    15\n",
      "16    16\n",
      "17    17\n",
      "18    18\n",
      "19    19\n",
      "20    20\n",
      "21    21\n",
      "22    22\n",
      "23    23\n",
      "24    24\n",
      "25    25\n",
      "dtype: int32\n",
      "\n",
      "Chuỗi từ từ điển:\n",
      "a     0\n",
      "b     1\n",
      "c     2\n",
      "d     3\n",
      "e     4\n",
      "f     5\n",
      "g     6\n",
      "h     7\n",
      "i     8\n",
      "j     9\n",
      "k    10\n",
      "l    11\n",
      "m    12\n",
      "n    13\n",
      "o    14\n",
      "p    15\n",
      "q    16\n",
      "r    17\n",
      "s    18\n",
      "t    19\n",
      "u    20\n",
      "v    21\n",
      "w    22\n",
      "x    23\n",
      "y    24\n",
      "z    25\n",
      "dtype: int32\n"
     ]
    }
   ],
   "source": [
    "import pandas as pd\n",
    "import numpy as np\n",
    "mylist = list('abcdefghijklmnopqrstuvwxyz')\n",
    "myarr = np.arange(26)\n",
    "mydict = dict(zip(mylist, myarr))\n",
    "# Tạo chuỗi pandas từ danh sách\n",
    "series_from_list = pd.Series(mylist)\n",
    "# Tạo chuỗi pandas từ mảng numpy\n",
    "series_from_array = pd.Series(myarr)\n",
    "# Tạo chuỗi pandas từ từ điển\n",
    "series_from_dict = pd.Series(mydict)\n",
    "# In ra kết quả\n",
    "print(\"Chuỗi từ danh sách:\")\n",
    "print(series_from_list)\n",
    "print(\"\\nChuỗi từ mảng numpy:\")\n",
    "print(series_from_array)\n",
    "print(\"\\nChuỗi từ từ điển:\")\n",
    "print(series_from_dict)"
   ]
  },
  {
   "cell_type": "markdown",
   "metadata": {},
   "source": [
    "Bài 4.2"
   ]
  },
  {
   "cell_type": "code",
   "execution_count": 2,
   "metadata": {},
   "outputs": [
    {
     "name": "stdout",
     "output_type": "stream",
     "text": [
      "   Chỉ mục  Giá trị\n",
      "0        a        0\n",
      "1        b        1\n",
      "2        c        2\n",
      "3        d        3\n",
      "4        e        4\n",
      "5        f        5\n",
      "6        g        6\n",
      "7        h        7\n",
      "8        i        8\n",
      "9        j        9\n",
      "10       k       10\n",
      "11       l       11\n",
      "12       m       12\n",
      "13       n       13\n",
      "14       o       14\n",
      "15       p       15\n",
      "16       q       16\n",
      "17       r       17\n",
      "18       s       18\n",
      "19       t       19\n",
      "20       u       20\n",
      "21       v       21\n",
      "22       w       22\n",
      "23       x       23\n",
      "24       y       24\n",
      "25       z       25\n"
     ]
    }
   ],
   "source": [
    "import pandas as pd\n",
    "import numpy as np\n",
    "# Khởi tạo danh sách, numpy và từ điển\n",
    "mylist = list('abcdefghijklmnopqrstuvwxyz')\n",
    "myarr = np.arange(26)\n",
    "mydict = dict(zip(mylist, myarr))\n",
    "ser = pd.Series(mydict)\n",
    "# Chuyển đổi Series thành DataFrame\n",
    "df = ser.reset_index()\n",
    "# Đổi tên các cột\n",
    "df.columns = ['Chỉ mục', 'Giá trị']\n",
    "# In ra DataFrame\n",
    "print(df)"
   ]
  },
  {
   "cell_type": "markdown",
   "metadata": {},
   "source": [
    "Bài 4.3"
   ]
  },
  {
   "cell_type": "code",
   "execution_count": 3,
   "metadata": {},
   "outputs": [
    {
     "name": "stdout",
     "output_type": "stream",
     "text": [
      "   Chữ cái  Giá trị\n",
      "0        a        0\n",
      "1        b        1\n",
      "2        c        2\n",
      "3        d        3\n",
      "4        e        4\n",
      "5        f        5\n",
      "6        g        6\n",
      "7        h        7\n",
      "8        i        8\n",
      "9        j        9\n",
      "10       k       10\n",
      "11       l       11\n",
      "12       m       12\n",
      "13       n       13\n",
      "14       o       14\n",
      "15       p       15\n",
      "16       q       16\n",
      "17       r       17\n",
      "18       s       18\n",
      "19       t       19\n",
      "20       u       20\n",
      "21       v       21\n",
      "22       w       22\n",
      "23       x       23\n",
      "24       y       24\n",
      "25       z       25\n"
     ]
    }
   ],
   "source": [
    "import pandas as pd\n",
    "import numpy as np\n",
    "# Khởi tạo các Series\n",
    "ser1 = pd.Series(list('abcdefghijklmnopqrstuvwxyz'))\n",
    "ser2 = pd.Series(np.arange(26))\n",
    "# Kết nối các Series thành một DataFrame\n",
    "df = pd.DataFrame({'Chữ cái': ser1, 'Giá trị': ser2})\n",
    "# In ra DataFrame\n",
    "print(df)"
   ]
  },
  {
   "cell_type": "markdown",
   "metadata": {},
   "source": [
    "Bài 4.4"
   ]
  },
  {
   "cell_type": "code",
   "execution_count": 5,
   "metadata": {},
   "outputs": [
    {
     "name": "stdout",
     "output_type": "stream",
     "text": [
      "Series sau khi xóa các mục có mặt trong ser2:\n",
      "0    L\n",
      "1    2\n",
      "2    3\n",
      "dtype: object\n",
      "\n",
      "Các mục không chung trong cả hai Series:\n",
      "0    L\n",
      "1    2\n",
      "2    3\n",
      "2    6\n",
      "3    7\n",
      "4    8\n",
      "dtype: object\n"
     ]
    }
   ],
   "source": [
    "import pandas as pd\n",
    "# Khởi tạo các Series\n",
    "ser1 = pd.Series(['L', 2, 3, 4, 5])\n",
    "ser2 = pd.Series([4, 5, 6, 7, 8])\n",
    "# 1. Xóa các mục có mặt trong ser2 từ ser1\n",
    "ser1_filtered = ser1[~ser1.isin(ser2)]\n",
    "# 2. Lấy tất cả các mục của ser1 và ser2 nhưng không nằm chung trong cả hai\n",
    "ser_combined = pd.concat([ser1, ser2]).drop_duplicates(keep=False)\n",
    "# In ra kết quả\n",
    "print(\"Series sau khi xóa các mục có mặt trong ser2:\")\n",
    "print(ser1_filtered)\n",
    "print(\"\\nCác mục không chung trong cả hai Series:\")\n",
    "print(ser_combined)"
   ]
  },
  {
   "cell_type": "markdown",
   "metadata": {},
   "source": [
    "Bài 4.5"
   ]
  },
  {
   "cell_type": "code",
   "execution_count": 6,
   "metadata": {},
   "outputs": [
    {
     "name": "stdout",
     "output_type": "stream",
     "text": [
      "Giá trị tối thiểu: -1.5694441911697865\n",
      "Phần centile thứ 25: 6.684099386302401\n",
      "Trung vi: 9.172085452853466\n",
      "Phần centile thứ 75: 13.247553525334707\n",
      "Giá trị tối đa: 16.954393124907263\n"
     ]
    }
   ],
   "source": [
    "import pandas as pd\n",
    "import numpy as np\n",
    "# Khởi tạo Series với các giá trị ngẫu nhiên\n",
    "ser = pd.Series(np.random.normal(10, 5, 25))\n",
    "# 1. Giá trị tối thiểu (minimum) của ser\n",
    "min_value = ser.min()\n",
    "# 2. Phần centile thứ 25 (25th percentile) của ser\n",
    "percentile_25 = ser.quantile(0.25)\n",
    "# 3. Trung vi (median) của ser\n",
    "median_value = ser.median()\n",
    "# 4. Phần centile thứ 75 (75th percentile) của ser\n",
    "percentile_75 = ser.quantile(0.75)\n",
    "# 5. Giá trị tối đa (maximum) của ser\n",
    "max_value = ser.max()\n",
    "# In ra kết quả\n",
    "print(\"Giá trị tối thiểu:\", min_value)\n",
    "print(\"Phần centile thứ 25:\", percentile_25)\n",
    "print(\"Trung vi:\", median_value)\n",
    "print(\"Phần centile thứ 75:\", percentile_75)\n",
    "print(\"Giá trị tối đa:\", max_value)"
   ]
  },
  {
   "cell_type": "markdown",
   "metadata": {},
   "source": [
    "Bài 4.6"
   ]
  },
  {
   "cell_type": "markdown",
   "metadata": {},
   "source": [
    "Giải thích code\n",
    "\n",
    "list( 'abcdefgh'): Tạo một danh sách các ký tự từ 'a' đến 'h'.\n",
    "np. random.randint(8, size=30): Tạo một mảng ngẫu nhiên gồm 30 số nguyên, mỗi số nằm trong khoảng từ 0 đến 7 (tức là chỉ số của các ký tự trong danh sách trên).\n",
    "np. take(...): Lấy các phần tử từ danh sách 'abcdefgh' theo các chỉ số được sinh ra ở trên. Kết quả sẽ là một mảng có 30 ký tự, mỗi ký tự được chọn ngẫu nhiên từ danh sách\n",
    "'abcdefgh'.\n",
    "\n",
    "pd. Series(...): Chuyển đổi mảng kết quả thành một Series của pandas."
   ]
  },
  {
   "cell_type": "code",
   "execution_count": 7,
   "metadata": {},
   "outputs": [
    {
     "name": "stdout",
     "output_type": "stream",
     "text": [
      "e    6\n",
      "d    5\n",
      "h    4\n",
      "a    4\n",
      "b    3\n",
      "g    3\n",
      "c    3\n",
      "f    2\n",
      "Name: count, dtype: int64\n"
     ]
    }
   ],
   "source": [
    "import pandas as pd\n",
    "import numpy as np\n",
    "# Tạo Series\n",
    "ser = pd.Series(np.take(list('abcdefgh'), np.random.randint(8, size=30)))\n",
    "# Tính số lần xuất hiện của mỗi giá trị duy nhất\n",
    "value_counts = ser.value_counts()\n",
    "# In ra kết quả\n",
    "print(value_counts)"
   ]
  },
  {
   "cell_type": "markdown",
   "metadata": {},
   "source": [
    "Bài 4.7"
   ]
  },
  {
   "cell_type": "code",
   "execution_count": 8,
   "metadata": {},
   "outputs": [
    {
     "name": "stdout",
     "output_type": "stream",
     "text": [
      "Series gốc:\n",
      "0     1\n",
      "1     1\n",
      "2     4\n",
      "3     4\n",
      "4     4\n",
      "5     4\n",
      "6     1\n",
      "7     3\n",
      "8     3\n",
      "9     1\n",
      "10    3\n",
      "11    2\n",
      "dtype: int32\n",
      "\n",
      "Series đã thay thế:\n",
      "0         1\n",
      "1         1\n",
      "2         4\n",
      "3         4\n",
      "4         4\n",
      "5         4\n",
      "6         1\n",
      "7     Other\n",
      "8     Other\n",
      "9         1\n",
      "10    Other\n",
      "11    Other\n",
      "dtype: object\n"
     ]
    }
   ],
   "source": [
    "import pandas as pd\n",
    "import numpy as np\n",
    "# Khởi tạo RandomState để tạo dữ liệu ngẫu nhiên\n",
    "np.random.seed(100)\n",
    "ser = pd.Series(np.random.randint(1, 5, 12))\n",
    "# Tính tần suất của các phần tử\n",
    "value_counts = ser.value_counts()\n",
    "# Lấy hai phần tử có tần suất cao nhất\n",
    "top_2 = value_counts.nlargest(2).index\n",
    "# Thay thế các phần tử không phải là top 2 bằng 'Other'\n",
    "ser_modified = ser.where(ser.isin(top_2), 'Other')\n",
    "# In ra kết quả\n",
    "print(\"Series gốc:\")\n",
    "print(ser)\n",
    "print(\"\\nSeries đã thay thế:\")\n",
    "print(ser_modified)"
   ]
  },
  {
   "cell_type": "markdown",
   "metadata": {},
   "source": [
    "Bài 4.8"
   ]
  },
  {
   "cell_type": "code",
   "execution_count": 9,
   "metadata": {},
   "outputs": [
    {
     "name": "stdout",
     "output_type": "stream",
     "text": [
      "Series gốc:\n",
      "0     0.670749\n",
      "1     0.825853\n",
      "2     0.136707\n",
      "3     0.575093\n",
      "4     0.891322\n",
      "5     0.209202\n",
      "6     0.185328\n",
      "7     0.108377\n",
      "8     0.219697\n",
      "9     0.978624\n",
      "10    0.811683\n",
      "11    0.171941\n",
      "12    0.816225\n",
      "13    0.274074\n",
      "14    0.431704\n",
      "15    0.940030\n",
      "16    0.817649\n",
      "17    0.336112\n",
      "18    0.175410\n",
      "19    0.372832\n",
      "dtype: float64\n",
      "\n",
      "Series đã thay thế bằng tên phân vị:\n",
      "0      Decile 7\n",
      "1      Decile 9\n",
      "2      Decile 1\n",
      "3      Decile 6\n",
      "4      Decile 9\n",
      "5      Decile 3\n",
      "6      Decile 3\n",
      "7      Decile 1\n",
      "8      Decile 4\n",
      "9     Decile 10\n",
      "10     Decile 7\n",
      "11     Decile 2\n",
      "12     Decile 8\n",
      "13     Decile 4\n",
      "14     Decile 6\n",
      "15    Decile 10\n",
      "16     Decile 8\n",
      "17     Decile 5\n",
      "18     Decile 2\n",
      "19     Decile 5\n",
      "dtype: category\n",
      "Categories (10, object): ['Decile 1' < 'Decile 2' < 'Decile 3' < 'Decile 4' ... 'Decile 7' < 'Decile 8' < 'Decile 9' < 'Decile 10']\n"
     ]
    }
   ],
   "source": [
    "import pandas as pd\n",
    "import numpy as np\n",
    "# Khởi tạo dữ liệu ngẫu nhiên\n",
    "ser = pd.Series(np.random.random(20))\n",
    "# Tính các phân vị\n",
    "deciles = pd.qcut(ser, 10, labels=[f'Decile {i+1}' for i in range(10)])\n",
    "# Thay thế các giá trị trong ser bằng tên phân vị tương ứng\n",
    "ser_modified = deciles\n",
    "# In ra kết quả\n",
    "print(\"Series gốc:\")\n",
    "print(ser)\n",
    "print(\"\\nSeries đã thay thế bằng tên phân vị:\")\n",
    "print(ser_modified)"
   ]
  },
  {
   "cell_type": "markdown",
   "metadata": {},
   "source": [
    "Câu 4.9"
   ]
  },
  {
   "cell_type": "markdown",
   "metadata": {},
   "source": [
    "Giải thích code \n",
    "\n",
    "np. random. randint (1, 10, 35): Tạo một mảng ngẫu nhiên gồm 35 số nguyên. Các số này được sinh ra ngẫu nhiên trong khoảng từ 1 (bao gồm) đến 10 (không bao gồm), tức là các giá trị có thể là 1, 2, 3, 4, 5, 6, 7, 8, hoặc 9.\n",
    "pd .Series(...): Chuyển đổi mảng số nguyên ngẫu nhiên này thành một Series của pandas. Một Series trong pandas là một cấu trúc dữ liệu một chiều có thể chứa các giá trị và chỉ số tương ứng."
   ]
  },
  {
   "cell_type": "code",
   "execution_count": 10,
   "metadata": {},
   "outputs": [
    {
     "name": "stdout",
     "output_type": "stream",
     "text": [
      "DataFrame đã định hình:\n",
      "   0  1  2  3  4\n",
      "0  1  3  4  3  6\n",
      "1  9  2  1  8  7\n",
      "2  3  1  9  3  6\n",
      "3  2  9  2  6  5\n",
      "4  3  9  4  6  1\n",
      "5  4  7  4  5  8\n",
      "6  7  4  1  5  5\n"
     ]
    }
   ],
   "source": [
    "import pandas as pd\n",
    "import numpy as np\n",
    "# Khởi tạo Series\n",
    "ser = pd.Series(np.random.randint(1, 10, 35))\n",
    "# Định hình lại thành DataFrame có 7 hàng và 5 cột\n",
    "df = pd.DataFrame(ser.values.reshape(7, 5))\n",
    "# In ra DataFrame\n",
    "print(\"DataFrame đã định hình:\")\n",
    "print(df)"
   ]
  },
  {
   "cell_type": "markdown",
   "metadata": {},
   "source": [
    "Câu 4.10"
   ]
  },
  {
   "cell_type": "code",
   "execution_count": 11,
   "metadata": {},
   "outputs": [
    {
     "name": "stdout",
     "output_type": "stream",
     "text": [
      "Series gốc:\n",
      "0    6\n",
      "1    8\n",
      "2    7\n",
      "3    7\n",
      "4    3\n",
      "5    5\n",
      "6    3\n",
      "dtype: int32\n",
      "\n",
      "Vị trí của các số là bội của 3:\n",
      "[0, 4, 6]\n"
     ]
    }
   ],
   "source": [
    "import pandas as pd\n",
    "import numpy as np\n",
    "# Khởi tạo Series\n",
    "ser = pd.Series(np.random.randint(1, 10, 7))\n",
    "# Tìm vị trí của các số là bội của 3\n",
    "positions = ser[ser % 3 == 0].index\n",
    "# In ra kết quả\n",
    "print(\"Series gốc:\")\n",
    "print(ser)\n",
    "print(\"\\nVị trí của các số là bội của 3:\")\n",
    "print(positions.tolist())  # Chuyển đổi index thành danh sách"
   ]
  },
  {
   "cell_type": "markdown",
   "metadata": {},
   "source": [
    "Bài 4.11"
   ]
  },
  {
   "cell_type": "code",
   "execution_count": 12,
   "metadata": {},
   "outputs": [
    {
     "name": "stdout",
     "output_type": "stream",
     "text": [
      "Series gốc:\n",
      "0     a\n",
      "1     b\n",
      "2     c\n",
      "3     d\n",
      "4     e\n",
      "5     f\n",
      "6     g\n",
      "7     h\n",
      "8     i\n",
      "9     j\n",
      "10    k\n",
      "11    I\n",
      "12    m\n",
      "13    n\n",
      "14    o\n",
      "15    p\n",
      "16    q\n",
      "17    r\n",
      "18    s\n",
      "19    t\n",
      "20    u\n",
      "21    v\n",
      "22    w\n",
      "23    x\n",
      "24    y\n",
      "25    z\n",
      "dtype: object\n",
      "\n",
      "Các mục được trích xuất tại các vị trí trong pos:\n",
      "0     a\n",
      "4     e\n",
      "8     i\n",
      "14    o\n",
      "20    u\n",
      "dtype: object\n"
     ]
    }
   ],
   "source": [
    "import pandas as pd\n",
    "# Khởi tạo Series\n",
    "ser = pd.Series(list('abcdefghijkImnopqrstuvwxyz'))\n",
    "# Danh sách các vị trí cần trích xuất\n",
    "pos = [0, 4, 8, 14, 20]\n",
    "# Trích xuất các mục tại các vị trí trong danh sách pos\n",
    "extracted_items = ser[pos]\n",
    "# In ra kết quả\n",
    "print(\"Series gốc:\")\n",
    "print(ser)\n",
    "print(\"\\nCác mục được trích xuất tại các vị trí trong pos:\")\n",
    "print(extracted_items)"
   ]
  },
  {
   "cell_type": "markdown",
   "metadata": {},
   "source": [
    "Bài 4.12"
   ]
  },
  {
   "cell_type": "code",
   "execution_count": 13,
   "metadata": {},
   "outputs": [
    {
     "name": "stdout",
     "output_type": "stream",
     "text": [
      "DataFrame xếp chồng theo chiều dọc:\n",
      "0    0\n",
      "1    1\n",
      "2    2\n",
      "3    a\n",
      "4    b\n",
      "5    e\n",
      "6    d\n",
      "7    e\n",
      "dtype: object\n",
      "\n",
      "DataFrame xếp chồng theo chiều ngang:\n",
      "     0  1\n",
      "0  0.0  a\n",
      "1  1.0  b\n",
      "2  2.0  e\n",
      "3  NaN  d\n",
      "4  NaN  e\n"
     ]
    }
   ],
   "source": [
    "import pandas as pd\n",
    "# Khởi tạo các Series\n",
    "ser1 = pd.Series(range(3))\n",
    "ser2 = pd.Series(list('abede'))\n",
    "# Xếp chồng theo chiều dọc\n",
    "df_vertical = pd.concat([ser1, ser2], axis=0).reset_index(drop=True)\n",
    "# Xếp chồng theo chiều ngang\n",
    "df_horizontal = pd.concat([ser1, ser2], axis=1)\n",
    "# In ra kết quả\n",
    "print(\"DataFrame xếp chồng theo chiều dọc:\")\n",
    "print(df_vertical)\n",
    "print(\"\\nDataFrame xếp chồng theo chiều ngang:\")\n",
    "print(df_horizontal)"
   ]
  },
  {
   "cell_type": "markdown",
   "metadata": {},
   "source": [
    "Bài 4.13"
   ]
  },
  {
   "cell_type": "code",
   "execution_count": 14,
   "metadata": {},
   "outputs": [
    {
     "name": "stdout",
     "output_type": "stream",
     "text": [
      "Vị trí của các mục trong ser2 trong ser1:\n",
      "[0, 4, 5, 8]\n"
     ]
    }
   ],
   "source": [
    "import pandas as pd\n",
    "# Khởi tạo các Series\n",
    "ser1 = pd.Series([10, 9, 6, 5, 3, 1, 12, 8, 13])\n",
    "ser2 = pd.Series([1, 3, 10, 13])\n",
    "# Lấy vị trí của các mục của ser2 trong ser1\n",
    "positions = [ser1[ser1.isin(ser2)].index[i] for i in range(len(ser2)) if ser2[i] in ser1.values]\n",
    "# In ra kết quả\n",
    "print(\"Vị trí của các mục trong ser2 trong ser1:\")\n",
    "print(positions)"
   ]
  },
  {
   "cell_type": "markdown",
   "metadata": {},
   "source": [
    "Bài 4.14"
   ]
  },
  {
   "cell_type": "code",
   "execution_count": 15,
   "metadata": {},
   "outputs": [
    {
     "name": "stdout",
     "output_type": "stream",
     "text": [
      "Sai số bình phương trung bình (MSE): 0.30090213781983577\n"
     ]
    }
   ],
   "source": [
    "import pandas as pd\n",
    "import numpy as np\n",
    "# Khởi tạo các Series\n",
    "truth = pd.Series(range(10))\n",
    "pred = pd.Series(range(10)) + np.random.random(10)\n",
    "# Tính sai số bình phương trung bình (MSE)\n",
    "mse = ((truth - pred) ** 2).mean()\n",
    "# In ra kết quả\n",
    "print(\"Sai số bình phương trung bình (MSE):\", mse)"
   ]
  },
  {
   "cell_type": "markdown",
   "metadata": {},
   "source": [
    "Bài 4.15"
   ]
  },
  {
   "cell_type": "code",
   "execution_count": 16,
   "metadata": {},
   "outputs": [
    {
     "name": "stdout",
     "output_type": "stream",
     "text": [
      "Series sau khi chuyển đổi:\n",
      "0     How\n",
      "1      To\n",
      "2    Kick\n",
      "3    Ass?\n",
      "dtype: object\n"
     ]
    }
   ],
   "source": [
    "import pandas as pd\n",
    "# Khởi tạo Series\n",
    "ser = pd.Series(['how', 'to', 'kick', 'ass?'])\n",
    "# Chuyển đổi ký tự đầu tiên của mỗi phần tử thành chữ hoa\n",
    "ser_capitalized = ser.str.capitalize()\n",
    "# In ra kết quả\n",
    "print(\"Series sau khi chuyển đổi:\")\n",
    "print(ser_capitalized)"
   ]
  },
  {
   "cell_type": "markdown",
   "metadata": {},
   "source": [
    "Bài 4.16"
   ]
  },
  {
   "cell_type": "code",
   "execution_count": 17,
   "metadata": {},
   "outputs": [
    {
     "name": "stdout",
     "output_type": "stream",
     "text": [
      "Hiệu số giữa các số liên tiếp:\n",
      "0    NaN\n",
      "1    2.0\n",
      "2    3.0\n",
      "3    4.0\n",
      "4    5.0\n",
      "5    6.0\n",
      "6    6.0\n",
      "7    8.0\n",
      "dtype: float64\n",
      "\n",
      "Hiệu số của hiệu số giữa các số liên tiếp:\n",
      "0    NaN\n",
      "1    NaN\n",
      "2    1.0\n",
      "3    1.0\n",
      "4    1.0\n",
      "5    1.0\n",
      "6    0.0\n",
      "7    2.0\n",
      "dtype: float64\n"
     ]
    }
   ],
   "source": [
    "import pandas as pd\n",
    "# Khởi tạo Series\n",
    "ser = pd.Series([1, 3, 6, 10, 15, 21, 27, 35])\n",
    "# Tính hiệu số giữa các số liên tiếp\n",
    "differences = ser.diff()\n",
    "# Tính hiệu số của hiệu số giữa các số liên tiếp\n",
    "second_differences = differences.diff()\n",
    "# In ra kết quả\n",
    "print(\"Hiệu số giữa các số liên tiếp:\")\n",
    "print(differences)\n",
    "print(\"\\nHiệu số của hiệu số giữa các số liên tiếp:\")\n",
    "print(second_differences)"
   ]
  },
  {
   "cell_type": "markdown",
   "metadata": {},
   "source": [
    "Bài 4.17"
   ]
  },
  {
   "cell_type": "code",
   "execution_count": null,
   "metadata": {},
   "outputs": [],
   "source": [
    "import pandas as pd\n",
    "# Khởi tạo Series chứa các chuỗi ngày\n",
    "ser = pd.Series(['01 Jan 2010', '02-02-2011', '20120303', '2013/04/04', '2014-05-05', '2015-06-06T12:20'])\n",
    "# Chuyển đổi các chuỗi ngày thành chuỗi thời gian\n",
    "timeseries = pd.to_datetime(ser)\n",
    "# In ra kết quả\n",
    "print(\"Series chuỗi thời gian:\")\n",
    "print(timeseries)"
   ]
  },
  {
   "cell_type": "markdown",
   "metadata": {},
   "source": [
    "Bài 4.18"
   ]
  },
  {
   "cell_type": "code",
   "execution_count": 23,
   "metadata": {},
   "outputs": [
    {
     "ename": "ValueError",
     "evalue": "pattern contains no capture groups",
     "output_type": "error",
     "traceback": [
      "\u001b[1;31m---------------------------------------------------------------------------\u001b[0m",
      "\u001b[1;31mValueError\u001b[0m                                Traceback (most recent call last)",
      "Cell \u001b[1;32mIn[23], line 8\u001b[0m\n\u001b[0;32m      6\u001b[0m pattern \u001b[38;5;241m=\u001b[39m \u001b[38;5;124mr\u001b[39m\u001b[38;5;124m\"\u001b[39m\u001b[38;5;124m[A-Za-z0-9._\u001b[39m\u001b[38;5;124m%\u001b[39m\u001b[38;5;124m+-]+@[A-Za-z0-9.-]+\u001b[39m\u001b[38;5;124m\\\u001b[39m\u001b[38;5;124m.[A-Z|a-z]\u001b[39m\u001b[38;5;124m{\u001b[39m\u001b[38;5;124m2,}\u001b[39m\u001b[38;5;124m\"\u001b[39m\n\u001b[0;32m      7\u001b[0m \u001b[38;5;66;03m# Áp dụng regex để trích xuất email\u001b[39;00m\n\u001b[1;32m----> 8\u001b[0m extracted_emails \u001b[38;5;241m=\u001b[39m \u001b[43memails\u001b[49m\u001b[38;5;241;43m.\u001b[39;49m\u001b[43mstr\u001b[49m\u001b[38;5;241;43m.\u001b[39;49m\u001b[43mextractall\u001b[49m\u001b[43m(\u001b[49m\u001b[43mpattern\u001b[49m\u001b[43m)\u001b[49m\n\u001b[0;32m      9\u001b[0m \u001b[38;5;66;03m# Hiển thị kết quả\u001b[39;00m\n\u001b[0;32m     10\u001b[0m \u001b[38;5;28mprint\u001b[39m(extracted_emails)\n",
      "File \u001b[1;32mc:\\ProgramData\\anaconda3\\Lib\\site-packages\\pandas\\core\\strings\\accessor.py:137\u001b[0m, in \u001b[0;36mforbid_nonstring_types.<locals>._forbid_nonstring_types.<locals>.wrapper\u001b[1;34m(self, *args, **kwargs)\u001b[0m\n\u001b[0;32m    132\u001b[0m     msg \u001b[38;5;241m=\u001b[39m (\n\u001b[0;32m    133\u001b[0m         \u001b[38;5;124mf\u001b[39m\u001b[38;5;124m\"\u001b[39m\u001b[38;5;124mCannot use .str.\u001b[39m\u001b[38;5;132;01m{\u001b[39;00mfunc_name\u001b[38;5;132;01m}\u001b[39;00m\u001b[38;5;124m with values of \u001b[39m\u001b[38;5;124m\"\u001b[39m\n\u001b[0;32m    134\u001b[0m         \u001b[38;5;124mf\u001b[39m\u001b[38;5;124m\"\u001b[39m\u001b[38;5;124minferred dtype \u001b[39m\u001b[38;5;124m'\u001b[39m\u001b[38;5;132;01m{\u001b[39;00m\u001b[38;5;28mself\u001b[39m\u001b[38;5;241m.\u001b[39m_inferred_dtype\u001b[38;5;132;01m}\u001b[39;00m\u001b[38;5;124m'\u001b[39m\u001b[38;5;124m.\u001b[39m\u001b[38;5;124m\"\u001b[39m\n\u001b[0;32m    135\u001b[0m     )\n\u001b[0;32m    136\u001b[0m     \u001b[38;5;28;01mraise\u001b[39;00m \u001b[38;5;167;01mTypeError\u001b[39;00m(msg)\n\u001b[1;32m--> 137\u001b[0m \u001b[38;5;28;01mreturn\u001b[39;00m \u001b[43mfunc\u001b[49m\u001b[43m(\u001b[49m\u001b[38;5;28;43mself\u001b[39;49m\u001b[43m,\u001b[49m\u001b[43m \u001b[49m\u001b[38;5;241;43m*\u001b[39;49m\u001b[43margs\u001b[49m\u001b[43m,\u001b[49m\u001b[43m \u001b[49m\u001b[38;5;241;43m*\u001b[39;49m\u001b[38;5;241;43m*\u001b[39;49m\u001b[43mkwargs\u001b[49m\u001b[43m)\u001b[49m\n",
      "File \u001b[1;32mc:\\ProgramData\\anaconda3\\Lib\\site-packages\\pandas\\core\\strings\\accessor.py:2853\u001b[0m, in \u001b[0;36mStringMethods.extractall\u001b[1;34m(self, pat, flags)\u001b[0m\n\u001b[0;32m   2779\u001b[0m \u001b[38;5;250m\u001b[39m\u001b[38;5;124mr\u001b[39m\u001b[38;5;124;03m\"\"\"\u001b[39;00m\n\u001b[0;32m   2780\u001b[0m \u001b[38;5;124;03mExtract capture groups in the regex `pat` as columns in DataFrame.\u001b[39;00m\n\u001b[0;32m   2781\u001b[0m \n\u001b[1;32m   (...)\u001b[0m\n\u001b[0;32m   2850\u001b[0m \u001b[38;5;124;03mC 0        NaN     1\u001b[39;00m\n\u001b[0;32m   2851\u001b[0m \u001b[38;5;124;03m\"\"\"\u001b[39;00m\n\u001b[0;32m   2852\u001b[0m \u001b[38;5;66;03m# TODO: dispatch\u001b[39;00m\n\u001b[1;32m-> 2853\u001b[0m \u001b[38;5;28;01mreturn\u001b[39;00m \u001b[43mstr_extractall\u001b[49m\u001b[43m(\u001b[49m\u001b[38;5;28;43mself\u001b[39;49m\u001b[38;5;241;43m.\u001b[39;49m\u001b[43m_orig\u001b[49m\u001b[43m,\u001b[49m\u001b[43m \u001b[49m\u001b[43mpat\u001b[49m\u001b[43m,\u001b[49m\u001b[43m \u001b[49m\u001b[43mflags\u001b[49m\u001b[43m)\u001b[49m\n",
      "File \u001b[1;32mc:\\ProgramData\\anaconda3\\Lib\\site-packages\\pandas\\core\\strings\\accessor.py:3512\u001b[0m, in \u001b[0;36mstr_extractall\u001b[1;34m(arr, pat, flags)\u001b[0m\n\u001b[0;32m   3510\u001b[0m \u001b[38;5;66;03m# the regex must contain capture groups.\u001b[39;00m\n\u001b[0;32m   3511\u001b[0m \u001b[38;5;28;01mif\u001b[39;00m regex\u001b[38;5;241m.\u001b[39mgroups \u001b[38;5;241m==\u001b[39m \u001b[38;5;241m0\u001b[39m:\n\u001b[1;32m-> 3512\u001b[0m     \u001b[38;5;28;01mraise\u001b[39;00m \u001b[38;5;167;01mValueError\u001b[39;00m(\u001b[38;5;124m\"\u001b[39m\u001b[38;5;124mpattern contains no capture groups\u001b[39m\u001b[38;5;124m\"\u001b[39m)\n\u001b[0;32m   3514\u001b[0m \u001b[38;5;28;01mif\u001b[39;00m \u001b[38;5;28misinstance\u001b[39m(arr, ABCIndex):\n\u001b[0;32m   3515\u001b[0m     arr \u001b[38;5;241m=\u001b[39m arr\u001b[38;5;241m.\u001b[39mto_series()\u001b[38;5;241m.\u001b[39mreset_index(drop\u001b[38;5;241m=\u001b[39m\u001b[38;5;28;01mTrue\u001b[39;00m)\u001b[38;5;241m.\u001b[39mastype(arr\u001b[38;5;241m.\u001b[39mdtype)\n",
      "\u001b[1;31mValueError\u001b[0m: pattern contains no capture groups"
     ]
    }
   ],
   "source": [
    "import pandas as pd\n",
    "import re\n",
    "# Giả sử bạn có một danh sách các chuỗi\n",
    "emails = pd.Series(['buying books at amazon.com', 'rameses@egypt.com', 'matt@t.co', 'narendra@modi.com'])\n",
    "# Định nghĩa mẫu regex để tìm các địa chỉ email\n",
    "pattern = r\"[A-Za-z0-9._%+-]+@[A-Za-z0-9.-]+\\.[A-Z|a-z]{2,}\"\n",
    "# Áp dụng regex để trích xuất email\n",
    "extracted_emails = emails.str.extractall(pattern)\n",
    "# Hiển thị kết quả\n",
    "print(extracted_emails)"
   ]
  },
  {
   "cell_type": "markdown",
   "metadata": {},
   "source": [
    "Bài 4.19"
   ]
  },
  {
   "cell_type": "code",
   "execution_count": 24,
   "metadata": {},
   "outputs": [
    {
     "name": "stdout",
     "output_type": "stream",
     "text": [
      "Fruit\n",
      "apple     3.500000\n",
      "banana    4.600000\n",
      "carrot    8.333333\n",
      "Name: Weight, dtype: float64\n"
     ]
    }
   ],
   "source": [
    "import pandas as pd\n",
    "import numpy as np\n",
    "# Tạo các series cho quả và khối lượng\n",
    "fruit = pd.Series(np.random.choice(['apple', 'banana', 'carrot'], 10))\n",
    "weights = pd.Series(np.linspace(1, 10, 10))\n",
    "# Tạo DataFrame từ hai series\n",
    "data = pd.DataFrame({'Fruit': fruit, 'Weight': weights})\n",
    "# Tính khối lượng trung bình của từng loại quả\n",
    "average_weight = data.groupby('Fruit')['Weight'].mean()\n",
    "# Hiển thị kết quả\n",
    "print(average_weight)"
   ]
  },
  {
   "cell_type": "markdown",
   "metadata": {},
   "source": [
    "Bài 4.20"
   ]
  },
  {
   "cell_type": "code",
   "execution_count": 27,
   "metadata": {},
   "outputs": [
    {
     "ename": "FileNotFoundError",
     "evalue": "[Errno 2] No such file or directory: 'euro12.csv'",
     "output_type": "error",
     "traceback": [
      "\u001b[1;31m---------------------------------------------------------------------------\u001b[0m",
      "\u001b[1;31mFileNotFoundError\u001b[0m                         Traceback (most recent call last)",
      "Cell \u001b[1;32mIn[27], line 3\u001b[0m\n\u001b[0;32m      1\u001b[0m \u001b[38;5;28;01mimport\u001b[39;00m \u001b[38;5;21;01mpandas\u001b[39;00m \u001b[38;5;28;01mas\u001b[39;00m \u001b[38;5;21;01mpd\u001b[39;00m\n\u001b[0;32m      2\u001b[0m \u001b[38;5;66;03m# Bước 1: Tạo DataFrame euro12 từ dữ liệu trong file CSV\u001b[39;00m\n\u001b[1;32m----> 3\u001b[0m euro12 \u001b[38;5;241m=\u001b[39m \u001b[43mpd\u001b[49m\u001b[38;5;241;43m.\u001b[39;49m\u001b[43mread_csv\u001b[49m\u001b[43m(\u001b[49m\u001b[38;5;124;43m'\u001b[39;49m\u001b[38;5;124;43meuro12.csv\u001b[39;49m\u001b[38;5;124;43m'\u001b[39;49m\u001b[43m)\u001b[49m\n\u001b[0;32m      4\u001b[0m \u001b[38;5;66;03m# In type, shape và danh sách các cột\u001b[39;00m\n\u001b[0;32m      5\u001b[0m \u001b[38;5;28mprint\u001b[39m(\u001b[38;5;124m\"\u001b[39m\u001b[38;5;124mType:\u001b[39m\u001b[38;5;124m\"\u001b[39m, \u001b[38;5;28mtype\u001b[39m(euro12))\n",
      "File \u001b[1;32mc:\\ProgramData\\anaconda3\\Lib\\site-packages\\pandas\\io\\parsers\\readers.py:1026\u001b[0m, in \u001b[0;36mread_csv\u001b[1;34m(filepath_or_buffer, sep, delimiter, header, names, index_col, usecols, dtype, engine, converters, true_values, false_values, skipinitialspace, skiprows, skipfooter, nrows, na_values, keep_default_na, na_filter, verbose, skip_blank_lines, parse_dates, infer_datetime_format, keep_date_col, date_parser, date_format, dayfirst, cache_dates, iterator, chunksize, compression, thousands, decimal, lineterminator, quotechar, quoting, doublequote, escapechar, comment, encoding, encoding_errors, dialect, on_bad_lines, delim_whitespace, low_memory, memory_map, float_precision, storage_options, dtype_backend)\u001b[0m\n\u001b[0;32m   1013\u001b[0m kwds_defaults \u001b[38;5;241m=\u001b[39m _refine_defaults_read(\n\u001b[0;32m   1014\u001b[0m     dialect,\n\u001b[0;32m   1015\u001b[0m     delimiter,\n\u001b[1;32m   (...)\u001b[0m\n\u001b[0;32m   1022\u001b[0m     dtype_backend\u001b[38;5;241m=\u001b[39mdtype_backend,\n\u001b[0;32m   1023\u001b[0m )\n\u001b[0;32m   1024\u001b[0m kwds\u001b[38;5;241m.\u001b[39mupdate(kwds_defaults)\n\u001b[1;32m-> 1026\u001b[0m \u001b[38;5;28;01mreturn\u001b[39;00m \u001b[43m_read\u001b[49m\u001b[43m(\u001b[49m\u001b[43mfilepath_or_buffer\u001b[49m\u001b[43m,\u001b[49m\u001b[43m \u001b[49m\u001b[43mkwds\u001b[49m\u001b[43m)\u001b[49m\n",
      "File \u001b[1;32mc:\\ProgramData\\anaconda3\\Lib\\site-packages\\pandas\\io\\parsers\\readers.py:620\u001b[0m, in \u001b[0;36m_read\u001b[1;34m(filepath_or_buffer, kwds)\u001b[0m\n\u001b[0;32m    617\u001b[0m _validate_names(kwds\u001b[38;5;241m.\u001b[39mget(\u001b[38;5;124m\"\u001b[39m\u001b[38;5;124mnames\u001b[39m\u001b[38;5;124m\"\u001b[39m, \u001b[38;5;28;01mNone\u001b[39;00m))\n\u001b[0;32m    619\u001b[0m \u001b[38;5;66;03m# Create the parser.\u001b[39;00m\n\u001b[1;32m--> 620\u001b[0m parser \u001b[38;5;241m=\u001b[39m \u001b[43mTextFileReader\u001b[49m\u001b[43m(\u001b[49m\u001b[43mfilepath_or_buffer\u001b[49m\u001b[43m,\u001b[49m\u001b[43m \u001b[49m\u001b[38;5;241;43m*\u001b[39;49m\u001b[38;5;241;43m*\u001b[39;49m\u001b[43mkwds\u001b[49m\u001b[43m)\u001b[49m\n\u001b[0;32m    622\u001b[0m \u001b[38;5;28;01mif\u001b[39;00m chunksize \u001b[38;5;129;01mor\u001b[39;00m iterator:\n\u001b[0;32m    623\u001b[0m     \u001b[38;5;28;01mreturn\u001b[39;00m parser\n",
      "File \u001b[1;32mc:\\ProgramData\\anaconda3\\Lib\\site-packages\\pandas\\io\\parsers\\readers.py:1620\u001b[0m, in \u001b[0;36mTextFileReader.__init__\u001b[1;34m(self, f, engine, **kwds)\u001b[0m\n\u001b[0;32m   1617\u001b[0m     \u001b[38;5;28mself\u001b[39m\u001b[38;5;241m.\u001b[39moptions[\u001b[38;5;124m\"\u001b[39m\u001b[38;5;124mhas_index_names\u001b[39m\u001b[38;5;124m\"\u001b[39m] \u001b[38;5;241m=\u001b[39m kwds[\u001b[38;5;124m\"\u001b[39m\u001b[38;5;124mhas_index_names\u001b[39m\u001b[38;5;124m\"\u001b[39m]\n\u001b[0;32m   1619\u001b[0m \u001b[38;5;28mself\u001b[39m\u001b[38;5;241m.\u001b[39mhandles: IOHandles \u001b[38;5;241m|\u001b[39m \u001b[38;5;28;01mNone\u001b[39;00m \u001b[38;5;241m=\u001b[39m \u001b[38;5;28;01mNone\u001b[39;00m\n\u001b[1;32m-> 1620\u001b[0m \u001b[38;5;28mself\u001b[39m\u001b[38;5;241m.\u001b[39m_engine \u001b[38;5;241m=\u001b[39m \u001b[38;5;28;43mself\u001b[39;49m\u001b[38;5;241;43m.\u001b[39;49m\u001b[43m_make_engine\u001b[49m\u001b[43m(\u001b[49m\u001b[43mf\u001b[49m\u001b[43m,\u001b[49m\u001b[43m \u001b[49m\u001b[38;5;28;43mself\u001b[39;49m\u001b[38;5;241;43m.\u001b[39;49m\u001b[43mengine\u001b[49m\u001b[43m)\u001b[49m\n",
      "File \u001b[1;32mc:\\ProgramData\\anaconda3\\Lib\\site-packages\\pandas\\io\\parsers\\readers.py:1880\u001b[0m, in \u001b[0;36mTextFileReader._make_engine\u001b[1;34m(self, f, engine)\u001b[0m\n\u001b[0;32m   1878\u001b[0m     \u001b[38;5;28;01mif\u001b[39;00m \u001b[38;5;124m\"\u001b[39m\u001b[38;5;124mb\u001b[39m\u001b[38;5;124m\"\u001b[39m \u001b[38;5;129;01mnot\u001b[39;00m \u001b[38;5;129;01min\u001b[39;00m mode:\n\u001b[0;32m   1879\u001b[0m         mode \u001b[38;5;241m+\u001b[39m\u001b[38;5;241m=\u001b[39m \u001b[38;5;124m\"\u001b[39m\u001b[38;5;124mb\u001b[39m\u001b[38;5;124m\"\u001b[39m\n\u001b[1;32m-> 1880\u001b[0m \u001b[38;5;28mself\u001b[39m\u001b[38;5;241m.\u001b[39mhandles \u001b[38;5;241m=\u001b[39m \u001b[43mget_handle\u001b[49m\u001b[43m(\u001b[49m\n\u001b[0;32m   1881\u001b[0m \u001b[43m    \u001b[49m\u001b[43mf\u001b[49m\u001b[43m,\u001b[49m\n\u001b[0;32m   1882\u001b[0m \u001b[43m    \u001b[49m\u001b[43mmode\u001b[49m\u001b[43m,\u001b[49m\n\u001b[0;32m   1883\u001b[0m \u001b[43m    \u001b[49m\u001b[43mencoding\u001b[49m\u001b[38;5;241;43m=\u001b[39;49m\u001b[38;5;28;43mself\u001b[39;49m\u001b[38;5;241;43m.\u001b[39;49m\u001b[43moptions\u001b[49m\u001b[38;5;241;43m.\u001b[39;49m\u001b[43mget\u001b[49m\u001b[43m(\u001b[49m\u001b[38;5;124;43m\"\u001b[39;49m\u001b[38;5;124;43mencoding\u001b[39;49m\u001b[38;5;124;43m\"\u001b[39;49m\u001b[43m,\u001b[49m\u001b[43m \u001b[49m\u001b[38;5;28;43;01mNone\u001b[39;49;00m\u001b[43m)\u001b[49m\u001b[43m,\u001b[49m\n\u001b[0;32m   1884\u001b[0m \u001b[43m    \u001b[49m\u001b[43mcompression\u001b[49m\u001b[38;5;241;43m=\u001b[39;49m\u001b[38;5;28;43mself\u001b[39;49m\u001b[38;5;241;43m.\u001b[39;49m\u001b[43moptions\u001b[49m\u001b[38;5;241;43m.\u001b[39;49m\u001b[43mget\u001b[49m\u001b[43m(\u001b[49m\u001b[38;5;124;43m\"\u001b[39;49m\u001b[38;5;124;43mcompression\u001b[39;49m\u001b[38;5;124;43m\"\u001b[39;49m\u001b[43m,\u001b[49m\u001b[43m \u001b[49m\u001b[38;5;28;43;01mNone\u001b[39;49;00m\u001b[43m)\u001b[49m\u001b[43m,\u001b[49m\n\u001b[0;32m   1885\u001b[0m \u001b[43m    \u001b[49m\u001b[43mmemory_map\u001b[49m\u001b[38;5;241;43m=\u001b[39;49m\u001b[38;5;28;43mself\u001b[39;49m\u001b[38;5;241;43m.\u001b[39;49m\u001b[43moptions\u001b[49m\u001b[38;5;241;43m.\u001b[39;49m\u001b[43mget\u001b[49m\u001b[43m(\u001b[49m\u001b[38;5;124;43m\"\u001b[39;49m\u001b[38;5;124;43mmemory_map\u001b[39;49m\u001b[38;5;124;43m\"\u001b[39;49m\u001b[43m,\u001b[49m\u001b[43m \u001b[49m\u001b[38;5;28;43;01mFalse\u001b[39;49;00m\u001b[43m)\u001b[49m\u001b[43m,\u001b[49m\n\u001b[0;32m   1886\u001b[0m \u001b[43m    \u001b[49m\u001b[43mis_text\u001b[49m\u001b[38;5;241;43m=\u001b[39;49m\u001b[43mis_text\u001b[49m\u001b[43m,\u001b[49m\n\u001b[0;32m   1887\u001b[0m \u001b[43m    \u001b[49m\u001b[43merrors\u001b[49m\u001b[38;5;241;43m=\u001b[39;49m\u001b[38;5;28;43mself\u001b[39;49m\u001b[38;5;241;43m.\u001b[39;49m\u001b[43moptions\u001b[49m\u001b[38;5;241;43m.\u001b[39;49m\u001b[43mget\u001b[49m\u001b[43m(\u001b[49m\u001b[38;5;124;43m\"\u001b[39;49m\u001b[38;5;124;43mencoding_errors\u001b[39;49m\u001b[38;5;124;43m\"\u001b[39;49m\u001b[43m,\u001b[49m\u001b[43m \u001b[49m\u001b[38;5;124;43m\"\u001b[39;49m\u001b[38;5;124;43mstrict\u001b[39;49m\u001b[38;5;124;43m\"\u001b[39;49m\u001b[43m)\u001b[49m\u001b[43m,\u001b[49m\n\u001b[0;32m   1888\u001b[0m \u001b[43m    \u001b[49m\u001b[43mstorage_options\u001b[49m\u001b[38;5;241;43m=\u001b[39;49m\u001b[38;5;28;43mself\u001b[39;49m\u001b[38;5;241;43m.\u001b[39;49m\u001b[43moptions\u001b[49m\u001b[38;5;241;43m.\u001b[39;49m\u001b[43mget\u001b[49m\u001b[43m(\u001b[49m\u001b[38;5;124;43m\"\u001b[39;49m\u001b[38;5;124;43mstorage_options\u001b[39;49m\u001b[38;5;124;43m\"\u001b[39;49m\u001b[43m,\u001b[49m\u001b[43m \u001b[49m\u001b[38;5;28;43;01mNone\u001b[39;49;00m\u001b[43m)\u001b[49m\u001b[43m,\u001b[49m\n\u001b[0;32m   1889\u001b[0m \u001b[43m\u001b[49m\u001b[43m)\u001b[49m\n\u001b[0;32m   1890\u001b[0m \u001b[38;5;28;01massert\u001b[39;00m \u001b[38;5;28mself\u001b[39m\u001b[38;5;241m.\u001b[39mhandles \u001b[38;5;129;01mis\u001b[39;00m \u001b[38;5;129;01mnot\u001b[39;00m \u001b[38;5;28;01mNone\u001b[39;00m\n\u001b[0;32m   1891\u001b[0m f \u001b[38;5;241m=\u001b[39m \u001b[38;5;28mself\u001b[39m\u001b[38;5;241m.\u001b[39mhandles\u001b[38;5;241m.\u001b[39mhandle\n",
      "File \u001b[1;32mc:\\ProgramData\\anaconda3\\Lib\\site-packages\\pandas\\io\\common.py:873\u001b[0m, in \u001b[0;36mget_handle\u001b[1;34m(path_or_buf, mode, encoding, compression, memory_map, is_text, errors, storage_options)\u001b[0m\n\u001b[0;32m    868\u001b[0m \u001b[38;5;28;01melif\u001b[39;00m \u001b[38;5;28misinstance\u001b[39m(handle, \u001b[38;5;28mstr\u001b[39m):\n\u001b[0;32m    869\u001b[0m     \u001b[38;5;66;03m# Check whether the filename is to be opened in binary mode.\u001b[39;00m\n\u001b[0;32m    870\u001b[0m     \u001b[38;5;66;03m# Binary mode does not support 'encoding' and 'newline'.\u001b[39;00m\n\u001b[0;32m    871\u001b[0m     \u001b[38;5;28;01mif\u001b[39;00m ioargs\u001b[38;5;241m.\u001b[39mencoding \u001b[38;5;129;01mand\u001b[39;00m \u001b[38;5;124m\"\u001b[39m\u001b[38;5;124mb\u001b[39m\u001b[38;5;124m\"\u001b[39m \u001b[38;5;129;01mnot\u001b[39;00m \u001b[38;5;129;01min\u001b[39;00m ioargs\u001b[38;5;241m.\u001b[39mmode:\n\u001b[0;32m    872\u001b[0m         \u001b[38;5;66;03m# Encoding\u001b[39;00m\n\u001b[1;32m--> 873\u001b[0m         handle \u001b[38;5;241m=\u001b[39m \u001b[38;5;28;43mopen\u001b[39;49m\u001b[43m(\u001b[49m\n\u001b[0;32m    874\u001b[0m \u001b[43m            \u001b[49m\u001b[43mhandle\u001b[49m\u001b[43m,\u001b[49m\n\u001b[0;32m    875\u001b[0m \u001b[43m            \u001b[49m\u001b[43mioargs\u001b[49m\u001b[38;5;241;43m.\u001b[39;49m\u001b[43mmode\u001b[49m\u001b[43m,\u001b[49m\n\u001b[0;32m    876\u001b[0m \u001b[43m            \u001b[49m\u001b[43mencoding\u001b[49m\u001b[38;5;241;43m=\u001b[39;49m\u001b[43mioargs\u001b[49m\u001b[38;5;241;43m.\u001b[39;49m\u001b[43mencoding\u001b[49m\u001b[43m,\u001b[49m\n\u001b[0;32m    877\u001b[0m \u001b[43m            \u001b[49m\u001b[43merrors\u001b[49m\u001b[38;5;241;43m=\u001b[39;49m\u001b[43merrors\u001b[49m\u001b[43m,\u001b[49m\n\u001b[0;32m    878\u001b[0m \u001b[43m            \u001b[49m\u001b[43mnewline\u001b[49m\u001b[38;5;241;43m=\u001b[39;49m\u001b[38;5;124;43m\"\u001b[39;49m\u001b[38;5;124;43m\"\u001b[39;49m\u001b[43m,\u001b[49m\n\u001b[0;32m    879\u001b[0m \u001b[43m        \u001b[49m\u001b[43m)\u001b[49m\n\u001b[0;32m    880\u001b[0m     \u001b[38;5;28;01melse\u001b[39;00m:\n\u001b[0;32m    881\u001b[0m         \u001b[38;5;66;03m# Binary mode\u001b[39;00m\n\u001b[0;32m    882\u001b[0m         handle \u001b[38;5;241m=\u001b[39m \u001b[38;5;28mopen\u001b[39m(handle, ioargs\u001b[38;5;241m.\u001b[39mmode)\n",
      "\u001b[1;31mFileNotFoundError\u001b[0m: [Errno 2] No such file or directory: 'euro12.csv'"
     ]
    }
   ],
   "source": [
    "import pandas as pd\n",
    "# Bước 1: Tạo DataFrame euro12 từ dữ liệu trong file CSV\n",
    "euro12 = pd.read_csv('euro12.csv')\n",
    "# In type, shape và danh sách các cột\n",
    "print(\"Type:\", type(euro12))\n",
    "print(\"Shape:\", euro12.shape)\n",
    "print(\"Columns:\", euro12.columns.tolist())\n",
    "# Bước 2: In giá trị cột Goals\n",
    "print(\"Goals:\", euro12['Goals'])\n",
    "# Bước 3: Số đội tham gia Euro2012\n",
    "num_teams = euro12['Team'].nunique()\n",
    "print(\"Số đội tham gia Euro2012:\", num_teams)\n",
    "# Bước 4: In thông tin của Euro2012\n",
    "print(euro12.info())\n",
    "# Bước 5: Tạo DataFrame discipline chỉ chứa 3 cột 'Team', 'Yellow Cards', 'Red Cards'\n",
    "discipline = euro12[['Team', 'Yellow Cards', 'Red Cards']]\n",
    "# Bước 6: Sắp xếp discipline theo 'Red Cards' và 'Yellow Cards' giảm dần\n",
    "discipline_sorted = discipline.sort_values(by=['Red Cards', 'Yellow Cards'], ascending=False)\n",
    "print(discipline_sorted)\n",
    "# Bước 7: Tính trung bình Yellow Cards\n",
    "avg_yellow_cards = discipline['Yellow Cards'].mean()\n",
    "print(\"Trung bình Yellow Cards:\", avg_yellow_cards)\n",
    "# Bước 8: Lọc các đội đã ghi hơn 6 bàn thắng\n",
    "teams_more_than_6_goals = euro12[euro12['Goals'] > 6]\n",
    "print(\"Đội đã ghi hơn 6 bàn thắng:\", teams_more_than_6_goals)\n",
    "# Bước 9: In các đội mà tên bắt đầu bằng 'G'\n",
    "teams_starting_with_G = euro12[euro12['Team'].str.startswith('G')]\n",
    "print(\"Đội tên bắt đầu bằng 'G':\", teams_starting_with_G)\n",
    "# Bước 10: In 7 cột đầu của euro12\n",
    "print(\"7 cột đầu của euro12:\")\n",
    "print(euro12.iloc[:, :7])\n",
    "# Bước 11: In tất cả các cột, trừ 3 cột cuối\n",
    "print(\"Tất cả các cột, trừ 3 cột cuối:\")\n",
    "print(euro12.iloc[:, :-3])\n",
    "# Bước 12: In các cột Team, Goals, Shooting Accuracy, Yellow Cards, Red Cards\n",
    "print(\"Các cột Team, Goals, Shooting Accuracy, Yellow Cards, Red Cards:\")\n",
    "print(euro12[['Team', 'Goals', 'Shooting Accuracy', 'Yellow Cards', 'Red Cards']])\n",
    "# Bước 13: In cột chỉ hiển thị 'Team', 'Shooting Accuracy' từ 'England', 'Italy', 'Russia'\n",
    "teams_to_show = euro12[euro12['Team'].isin(['England', 'Italy', 'Russia'])]\n",
    "print(\"Thông tin Team và Shooting Accuracy của England, Italy, Russia:\")\n",
    "print(teams_to_show[['Team', 'Shooting Accuracy']])"
   ]
  }
 ],
 "metadata": {
  "kernelspec": {
   "display_name": "base",
   "language": "python",
   "name": "python3"
  },
  "language_info": {
   "codemirror_mode": {
    "name": "ipython",
    "version": 3
   },
   "file_extension": ".py",
   "mimetype": "text/x-python",
   "name": "python",
   "nbconvert_exporter": "python",
   "pygments_lexer": "ipython3",
   "version": "3.12.4"
  }
 },
 "nbformat": 4,
 "nbformat_minor": 2
}
